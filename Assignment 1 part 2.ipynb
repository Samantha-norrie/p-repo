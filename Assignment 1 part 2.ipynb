{
 "cells": [
  {
   "cell_type": "markdown",
   "id": "7c3625ec",
   "metadata": {},
   "source": [
    "# Assignment 1, Part 2\n",
    "## Samantha Norrie\n",
    "## V00922256"
   ]
  },
  {
   "cell_type": "markdown",
   "id": "15445d07",
   "metadata": {},
   "source": [
    "### Q 1\n",
    "#### P1\n",
    "\n",
    "##### Circuit for p1\n",
    "<img src=\"q1p1_circuit.png\"/>\n",
    "\n",
    "##### Amplitude for p1\n",
    "<img src=\"q1p1_amplitude.png\" style=\"height: 300px;\"/>\n",
    "\n",
    "##### Probability for p1\n",
    "<img src=\"q1p1_probability.png\" style=\"height: 300px;\"/>\n",
    "\n",
    "#### P2\n",
    "\n",
    "##### Circuit for p2. Not gates were added to the beginning of the circuit\n",
    "##### to create the initial states $\\ket{01} $, |10>, and |11>.\n",
    "<img src=\"q1p2_circuit.png\"/>\n",
    "\n",
    "##### Amplitude for p2 with initial state |00>\n",
    "<img src=\"q1p200_amplitude.png\" style=\"height: 300px;\"/>\n",
    "\n",
    "##### Probability for p2 with initial state |00>\n",
    "<img src=\"q1p200_probability.png\" style=\"height: 300px;\"/>\n",
    "\n",
    "##### Amplitude for p2 with initial state |01>\n",
    "<img src=\"q1p201_amplitude.png\" style=\"height: 300px;\"/>\n",
    "\n",
    "##### Probability for p2 with initial state |01>\n",
    "<img src=\"q1p201_probability.png\" style=\"height: 300px;\"/>\n",
    "\n",
    "##### Amplitude for p2 with initial state |10>\n",
    "<img src=\"q1p210_amplitude.png\" style=\"height: 300px;\"/>\n",
    "\n",
    "##### Probability for p2 with initial state |10>\n",
    "<img src=\"q1p210_probability.png\" style=\"height: 300px;\"/>\n",
    "\n",
    "##### Amplitude for p2 with initial state |11>\n",
    "<img src=\"q1p211_amplitude.png\" style=\"height: 300px;\"/>\n",
    "\n",
    "##### Probability for p2 with initial state |11>\n",
    "<img src=\"q1p211_probability.png\" style=\"height: 300px;\"/>\n",
    "\n",
    "#### P3\n",
    "\n",
    "##### Circuit for p1\n",
    "<img src=\"q1p3_circuit.png\"/>\n",
    "\n",
    "##### Amplitude for p3\n",
    "<img src=\"q1p3_amplitude.png\" style=\"height: 300px;\"/>\n",
    "\n",
    "##### Probability for p3\n",
    "<img src=\"q1p3_probability.png\" style=\"height: 300px;\"/>\n",
    "\n",
    "The qubits are in the state |$\\Psi$> = 1/2|00> + 1/2|01> +\n",
    "1/2|10> + 1/2|11> after the first barrier and remain in\n",
    "this state even after the CNOT gate is applied. This is due\n",
    "to all of the amplitudes being the same."
   ]
  },
  {
   "cell_type": "markdown",
   "id": "2d3b630c",
   "metadata": {},
   "source": [
    "### Q2"
   ]
  },
  {
   "cell_type": "code",
   "execution_count": 1,
   "id": "3b3c60e3",
   "metadata": {},
   "outputs": [],
   "source": [
    "import numpy as np\n",
    "from qiskit import(\n",
    "  QuantumCircuit,\n",
    "  execute,\n",
    "  Aer)\n",
    "from qiskit.visualization import plot_histogram"
   ]
  },
  {
   "cell_type": "code",
   "execution_count": 2,
   "id": "946eda8d",
   "metadata": {},
   "outputs": [
    {
     "data": {
      "image/png": "[encoded data removed]",
      "text/plain": [
       "<Figure size 436.286x200.667 with 1 Axes>"
      ]
     },
     "execution_count": 2,
     "metadata": {},
     "output_type": "execute_result"
    }
   ],
   "source": [
    "# P1 circuit\n",
    "circuit = QuantumCircuit(1, 1)\n",
    "circuit.initialize('1', circuit.qubits)\n",
    "circuit.draw()\n",
    "circuit.z(0)\n",
    "circuit.h(0)\n",
    "circuit.measure([0], [0])\n",
    "circuit.draw('mpl')"
   ]
  },
  {
   "cell_type": "code",
   "execution_count": 3,
   "id": "424e1033",
   "metadata": {},
   "outputs": [
    {
     "data": {
      "image/png": "[encoded data removed]",
      "text/plain": [
       "<Figure size 454.517x284.278 with 1 Axes>"
      ]
     },
     "execution_count": 3,
     "metadata": {},
     "output_type": "execute_result"
    }
   ],
   "source": [
    "# P2 circuit\n",
    "circuit = QuantumCircuit(2, 2)\n",
    "circuit.h(0)\n",
    "circuit.cnot(0, 1)\n",
    "circuit.measure([0, 1], [0, 1])\n",
    "circuit.draw('mpl')"
   ]
  },
  {
   "cell_type": "code",
   "execution_count": 4,
   "id": "abdb45ef",
   "metadata": {},
   "outputs": [
    {
     "data": {
      "image/png": "[encoded data removed]",
      "text/plain": [
       "<Figure size 621.739x284.278 with 1 Axes>"
      ]
     },
     "execution_count": 4,
     "metadata": {},
     "output_type": "execute_result"
    }
   ],
   "source": [
    "# P3 circuit\n",
    "circuit = QuantumCircuit(2, 2)\n",
    "circuit.h(0)\n",
    "circuit.h(1)\n",
    "circuit.barrier(0)\n",
    "circuit.barrier(1)\n",
    "circuit.cnot(0, 1)\n",
    "circuit.barrier(0)\n",
    "circuit.barrier(1)\n",
    "circuit.measure([0,1], [0, 1])\n",
    "circuit.draw('mpl')"
   ]
  },
  {
   "cell_type": "markdown",
   "id": "be2604e0",
   "metadata": {},
   "source": [
    "### Q3"
   ]
  },
  {
   "cell_type": "code",
   "execution_count": null,
   "id": "6afe4d18",
   "metadata": {},
   "outputs": [],
   "source": [
    "from qiskit.visualization import plot_bloch_vector"
   ]
  },
  {
   "cell_type": "code",
   "execution_count": null,
   "id": "0c94ce8e",
   "metadata": {},
   "outputs": [],
   "source": [
    "plot_bloch_vector([0,0,1], title=\"Bloch Sphere\")"
   ]
  },
  {
   "cell_type": "code",
   "execution_count": null,
   "id": "641a9797",
   "metadata": {},
   "outputs": [],
   "source": [
    "plot_bloch_vector([0,0,-1], title=\"Bloch Sphere\")"
   ]
  },
  {
   "cell_type": "code",
   "execution_count": null,
   "id": "44f19269",
   "metadata": {},
   "outputs": [],
   "source": [
    "plot_bloch_vector([1,0,0], title=\"Bloch Sphere\")"
   ]
  },
  {
   "cell_type": "code",
   "execution_count": null,
   "id": "19275473",
   "metadata": {},
   "outputs": [],
   "source": [
    "plot_bloch_vector([-1,0,0], title=\"Bloch Sphere\")"
   ]
  },
  {
   "cell_type": "code",
   "execution_count": null,
   "id": "0dc0c112",
   "metadata": {},
   "outputs": [],
   "source": [
    "plot_bloch_vector([0,1,0], title=\"Bloch Sphere\")"
   ]
  },
  {
   "cell_type": "code",
   "execution_count": null,
   "id": "8f1f9165",
   "metadata": {},
   "outputs": [],
   "source": [
    "plot_bloch_vector([0,-1,0], title=\"Bloch Sphere\")"
   ]
  }
 ],
 "metadata": {
  "kernelspec": {
   "display_name": "Python 3 (ipykernel)",
   "language": "python",
   "name": "python3"
  },
  "language_info": {
   "codemirror_mode": {
    "name": "ipython",
    "version": 3
   },
   "file_extension": ".py",
   "mimetype": "text/x-python",
   "name": "python",
   "nbconvert_exporter": "python",
   "pygments_lexer": "ipython3",
   "version": "3.10.8"
  }
 },
 "nbformat": 4,
 "nbformat_minor": 5
}
